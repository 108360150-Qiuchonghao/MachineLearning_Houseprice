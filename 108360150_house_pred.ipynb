{
 "cells": [
  {
   "cell_type": "code",
   "execution_count": 4,
   "metadata": {
    "colab": {
     "base_uri": "https://localhost:8080/",
     "height": 149,
     "resources": {
      "http://localhost:8080/nbextensions/google.colab/files.js": {
       "data": "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",
       "headers": [
        [
         "content-type",
         "application/javascript"
        ]
       ],
       "ok": true,
       "status": 200,
       "status_text": ""
      }
     }
    },
    "id": "EAyMfTlkzCKf",
    "outputId": "3e1864d6-7235-4fa3-e8d4-9ef5bdb8bbf3"
   },
   "outputs": [],
   "source": [
    "#在colab中可以用這兩行程式做文件的讀取\n",
    "#from google.colab import files\n",
    "#uploaded = files.upload()"
   ]
  },
  {
   "cell_type": "code",
   "execution_count": null,
   "metadata": {
    "id": "l33YvvDPtNa7"
   },
   "outputs": [
    {
     "name": "stderr",
     "output_type": "stream",
     "text": [
      "2021-12-19 21:02:50.622004: W tensorflow/stream_executor/platform/default/dso_loader.cc:64] Could not load dynamic library 'libcudart.so.11.0'; dlerror: libcudart.so.11.0: cannot open shared object file: No such file or directory\n",
      "2021-12-19 21:02:50.622023: I tensorflow/stream_executor/cuda/cudart_stub.cc:29] Ignore above cudart dlerror if you do not have a GPU set up on your machine.\n",
      "2021-12-19 21:02:52.100894: W tensorflow/stream_executor/platform/default/dso_loader.cc:64] Could not load dynamic library 'libcuda.so.1'; dlerror: libcuda.so.1: cannot open shared object file: No such file or directory\n",
      "2021-12-19 21:02:52.100916: W tensorflow/stream_executor/cuda/cuda_driver.cc:269] failed call to cuInit: UNKNOWN ERROR (303)\n",
      "2021-12-19 21:02:52.100928: I tensorflow/stream_executor/cuda/cuda_diagnostics.cc:156] kernel driver does not appear to be running on this host (qiu-MS-7B89): /proc/driver/nvidia/version does not exist\n",
      "2021-12-19 21:02:52.101064: I tensorflow/core/platform/cpu_feature_guard.cc:151] This TensorFlow binary is optimized with oneAPI Deep Neural Network Library (oneDNN) to use the following CPU instructions in performance-critical operations:  AVX2 FMA\n",
      "To enable them in other operations, rebuild TensorFlow with the appropriate compiler flags.\n"
     ]
    },
    {
     "name": "stdout",
     "output_type": "stream",
     "text": [
      "Epoch 1/250\n",
      "102/102 [==============================] - 0s 2ms/step - loss: 454709.5000 - val_loss: 226551.1094\n",
      "Epoch 2/250\n",
      "102/102 [==============================] - 0s 831us/step - loss: 172323.9375 - val_loss: 131012.4609\n",
      "Epoch 3/250\n",
      "102/102 [==============================] - 0s 827us/step - loss: 121409.4062 - val_loss: 114185.2109\n",
      "Epoch 4/250\n",
      "102/102 [==============================] - 0s 823us/step - loss: 111927.6719 - val_loss: 110338.7578\n",
      "Epoch 5/250\n",
      "102/102 [==============================] - 0s 915us/step - loss: 109309.2266 - val_loss: 108238.9062\n",
      "Epoch 6/250\n",
      "102/102 [==============================] - 0s 856us/step - loss: 107219.7266 - val_loss: 106258.7969\n",
      "Epoch 7/250\n",
      "102/102 [==============================] - 0s 796us/step - loss: 105812.1328 - val_loss: 105126.7969\n",
      "Epoch 8/250\n",
      "102/102 [==============================] - 0s 765us/step - loss: 104628.4922 - val_loss: 103777.6250\n",
      "Epoch 9/250\n",
      "102/102 [==============================] - 0s 788us/step - loss: 103864.4062 - val_loss: 103118.0781\n",
      "Epoch 10/250\n",
      "102/102 [==============================] - 0s 803us/step - loss: 103158.6016 - val_loss: 101942.3672\n",
      "Epoch 11/250\n",
      "102/102 [==============================] - 0s 796us/step - loss: 102405.3906 - val_loss: 101678.4062\n",
      "Epoch 12/250\n",
      "102/102 [==============================] - 0s 789us/step - loss: 101722.8281 - val_loss: 101071.8672\n",
      "Epoch 13/250\n",
      "102/102 [==============================] - 0s 780us/step - loss: 101387.3047 - val_loss: 100374.7891\n",
      "Epoch 14/250\n",
      "102/102 [==============================] - 0s 796us/step - loss: 100988.0938 - val_loss: 100256.3906\n",
      "Epoch 15/250\n",
      "102/102 [==============================] - 0s 811us/step - loss: 100658.9844 - val_loss: 99360.6953\n",
      "Epoch 16/250\n",
      "102/102 [==============================] - 0s 917us/step - loss: 100305.0859 - val_loss: 99304.2422\n",
      "Epoch 17/250\n",
      "102/102 [==============================] - 0s 849us/step - loss: 99868.3203 - val_loss: 98982.5625\n",
      "Epoch 18/250\n",
      "102/102 [==============================] - 0s 798us/step - loss: 99474.5391 - val_loss: 99170.1016\n",
      "Epoch 19/250\n",
      "102/102 [==============================] - 0s 798us/step - loss: 99285.7422 - val_loss: 98777.3203\n",
      "Epoch 20/250\n",
      "102/102 [==============================] - 0s 806us/step - loss: 99236.0625 - val_loss: 98317.1328\n",
      "Epoch 21/250\n",
      "102/102 [==============================] - 0s 808us/step - loss: 98836.4219 - val_loss: 98492.0859\n",
      "Epoch 22/250\n",
      "102/102 [==============================] - 0s 800us/step - loss: 98624.6328 - val_loss: 100114.2656\n",
      "Epoch 23/250\n",
      "102/102 [==============================] - 0s 795us/step - loss: 98487.7656 - val_loss: 97740.7734\n",
      "Epoch 24/250\n",
      "102/102 [==============================] - 0s 777us/step - loss: 98329.5781 - val_loss: 97904.8750\n",
      "Epoch 25/250\n",
      "102/102 [==============================] - 0s 800us/step - loss: 98238.1328 - val_loss: 97045.0938\n",
      "Epoch 26/250\n",
      "102/102 [==============================] - 0s 786us/step - loss: 98174.0156 - val_loss: 97654.8047\n",
      "Epoch 27/250\n",
      "102/102 [==============================] - 0s 792us/step - loss: 97691.6953 - val_loss: 97444.6406\n",
      "Epoch 28/250\n",
      "102/102 [==============================] - 0s 797us/step - loss: 97691.0312 - val_loss: 96545.5234\n",
      "Epoch 29/250\n",
      "102/102 [==============================] - 0s 777us/step - loss: 97978.1641 - val_loss: 97609.7812\n",
      "Epoch 30/250\n",
      "102/102 [==============================] - 0s 816us/step - loss: 97706.4688 - val_loss: 96747.3984\n",
      "Epoch 31/250\n",
      "102/102 [==============================] - 0s 797us/step - loss: 97180.4922 - val_loss: 96683.1172\n",
      "Epoch 32/250\n",
      "102/102 [==============================] - 0s 822us/step - loss: 97349.4219 - val_loss: 96998.6172\n",
      "Epoch 33/250\n",
      "102/102 [==============================] - 0s 840us/step - loss: 97286.9219 - val_loss: 96364.6328\n",
      "Epoch 34/250\n",
      "102/102 [==============================] - 0s 895us/step - loss: 97219.6016 - val_loss: 97097.8906\n",
      "Epoch 35/250\n",
      "102/102 [==============================] - 0s 902us/step - loss: 96850.4375 - val_loss: 96941.8047\n",
      "Epoch 36/250\n",
      "102/102 [==============================] - 0s 815us/step - loss: 96853.9609 - val_loss: 96001.5859\n",
      "Epoch 37/250\n",
      "102/102 [==============================] - 0s 796us/step - loss: 96516.2188 - val_loss: 95635.3359\n",
      "Epoch 38/250\n",
      "102/102 [==============================] - 0s 809us/step - loss: 96095.2109 - val_loss: 95402.7891\n",
      "Epoch 39/250\n",
      "102/102 [==============================] - 0s 800us/step - loss: 95474.5234 - val_loss: 95174.4766\n",
      "Epoch 40/250\n",
      "102/102 [==============================] - 0s 804us/step - loss: 94918.7578 - val_loss: 93884.8281\n",
      "Epoch 41/250\n",
      "102/102 [==============================] - 0s 810us/step - loss: 94596.0547 - val_loss: 93531.7656\n",
      "Epoch 42/250\n",
      "102/102 [==============================] - 0s 840us/step - loss: 93904.4922 - val_loss: 93255.9844\n",
      "Epoch 43/250\n",
      "102/102 [==============================] - 0s 800us/step - loss: 93659.9922 - val_loss: 92573.7031\n",
      "Epoch 44/250\n",
      "  1/102 [..............................] - ETA: 0s - loss: 81341.7812"
     ]
    }
   ],
   "source": [
    "#import 所有所需要的API\n",
    "import pandas as pd\n",
    "from keras.models import Sequential\n",
    "from keras import layers\n",
    "from keras import optimizers\n",
    "from keras.layers import Dense\n",
    "from keras.callbacks import ModelCheckpoint\n",
    "from tensorflow import keras\n",
    "#讀取train-v3.csv，valid-v3.csv，test-v3.csv\n",
    "#將train和valid的id和price特徵去掉，並且將price另存至Y_train Y_valid\n",
    "data_train = pd.read_csv('csv_data/train-v3.csv')\n",
    "X_train = data_train.drop(['price','id'],axis=1)\n",
    "Y_train = data_train['price'].values\n",
    "\n",
    "data_valid=pd.read_csv('csv_data/valid-v3.csv')\n",
    "X_valid = data_valid.drop(['price','id'],axis=1)\n",
    "Y_valid = data_valid['price'].values\n",
    "\n",
    "data_test = pd.read_csv('csv_data/test-v3.csv')\n",
    "X_test = data_test.drop(['id'],axis=1)\n",
    "\n",
    "#因為數據中沒有文本，對所有數據做標準化\n",
    "mean,std=X_train.mean(axis=0,),X_train.std(axis=0)\n",
    "X_train=(X_train-mean)/std\n",
    "X_valid=(X_valid-mean)/std\n",
    "X_test=(X_test-mean)/std\n",
    "\n",
    "\n",
    "#利用keras建立模型，由於樣本數量較少，所以用較少的神經元和層數\n",
    "#使用adam作為模型的優化器\n",
    "model =Sequential()\n",
    "model.add(Dense(128,input_dim=X_train.shape[1],kernel_initializer='random_normal',activation='relu'))\n",
    "model.add(Dense(64,kernel_initializer='normal',activation='relu'))\n",
    "model.add(Dense(32,kernel_initializer='normal',activation='relu'))\n",
    "model.add(Dense(1))\n",
    "adam=keras.optimizers.Adam(learning_rate=0.0081,beta_1=0.9, beta_2= 0.99, epsilon= None, decay=0.0, amsgrad= False)\n",
    "model.compile(loss='MAE',optimizer=adam)\n",
    "\n",
    "history = model.fit(X_train,Y_train,validation_data=(X_valid,Y_valid),\n",
    "                  \n",
    "                  epochs=250,batch_size=128,verbose=1)\n",
    "\n",
    "losses=pd.DataFrame(model.history.history)\n",
    "losses.plot()\n",
    "model.summary()"
   ]
  },
  {
   "cell_type": "code",
   "execution_count": null,
   "metadata": {
    "id": "jy8Hw8NeBD_t"
   },
   "outputs": [],
   "source": [
    "\n",
    "pred=model.predict(X_test)\n",
    "\n",
    "with open('csv_data/house_pred_keras.csv','w')as f:\n",
    "  f.write('id,price\\n')\n",
    "  for i in range(len(pred)):\n",
    "    f.write(str(i+1)+','+str(float(pred[i]))+'\\n')"
   ]
  },
  {
   "cell_type": "markdown",
   "metadata": {
    "id": "EmYkLsnhycC7"
   },
   "source": [
    "# 新段落"
   ]
  }
 ],
 "metadata": {
  "colab": {
   "collapsed_sections": [],
   "name": "Untitled0.ipynb",
   "provenance": []
  },
  "kernelspec": {
   "display_name": "Python 3 (ipykernel)",
   "language": "python",
   "name": "python3"
  },
  "language_info": {
   "codemirror_mode": {
    "name": "ipython",
    "version": 3
   },
   "file_extension": ".py",
   "mimetype": "text/x-python",
   "name": "python",
   "nbconvert_exporter": "python",
   "pygments_lexer": "ipython3",
   "version": "3.8.10"
  }
 },
 "nbformat": 4,
 "nbformat_minor": 1
}
